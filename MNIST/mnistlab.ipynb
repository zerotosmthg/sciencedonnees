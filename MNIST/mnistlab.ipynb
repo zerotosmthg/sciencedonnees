{
 "cells": [
  {
   "cell_type": "markdown",
   "metadata": {},
   "source": [
    "# Mnist lab \n",
    "\n",
    "## Option 1: Using standard python libraries and using the csv dataset\n",
    "## Option 2: Using tensorflow + keras (to review)"
   ]
  },
  {
   "cell_type": "markdown",
   "metadata": {},
   "source": [
    "## Option 1: \n",
    "### Set the environment\n",
    "1. Create the working directory called \"sciencedonnees\" based on the user's home\n",
    "2. Download the mnist dataset in csv format.  it is also possible to download the original dataset from http://yann.lecun.com/exdb/mnist/ (gz files), decompress the files and then (a) convert the files to csv or (b) convert the files to a numpy array  "
   ]
  },
  {
   "cell_type": "code",
   "execution_count": 10,
   "metadata": {},
   "outputs": [],
   "source": [
    "import urllib.request\n",
    "import os\n",
    "import csv"
   ]
  },
  {
   "cell_type": "code",
   "execution_count": 11,
   "metadata": {},
   "outputs": [],
   "source": [
    "def set_environment(workpath, urls, files):\n",
    "    ''' function to set the working directory, if it does not exist, \n",
    "        it will create it, and download the dataset'''\n",
    "    if not os.path.exists(workpath):\n",
    "        os.makedirs(workpath)\n",
    "        \n",
    "    for key, value in files.items():\n",
    "        file_name = workpath+value\n",
    "        print ('Downloading file: %s to %s %s' % (urls[key], file_name, '\\n'))\n",
    "        if os.path.isfile(file_name):\n",
    "            print ('Skipping as %s already exist in %s %s' % (value, file_name, '\\n') )\n",
    "        else:\n",
    "            download_file(urls[key], workpath+value)\n",
    "            print ('done'+'\\n')\n",
    "    \n",
    "        \n",
    "def download_file(f_url,f_dest):\n",
    "    '''function to download any file'''\n",
    "    urllib.request.urlretrieve(f_url, f_dest)"
   ]
  },
  {
   "cell_type": "markdown",
   "metadata": {},
   "source": [
    "#### If we want to use the original dataset, we can do it be defining the urls and files dictionaries as follows:\n",
    "\n",
    "```python\n",
    "urls={'train_images':'http://yann.lecun.com/exdb/mnist/train-images-idx3-ubyte.gz',\n",
    "      'train_labels':'http://yann.lecun.com/exdb/mnist/train-labels-idx1-ubyte.gz',\n",
    "      'test_images':'http://yann.lecun.com/exdb/mnist/t10k-images-idx3-ubyte.gz',\n",
    "      'test_labels':'http://yann.lecun.com/exdb/mnist/t10k-labels-idx1-ubyte.gz'}\n",
    "\n",
    "files = {'train_images':'train-images-idx3-ubyte.gz',\n",
    "         'train_labels':'train-labels-idx1-ubyte.gz',\n",
    "         'test_images':'t10k-images-idx3-ubyte.gz',\n",
    "         'test_labels':'t10k-labels-idx1-ubyte.gz'}\n",
    "```"
   ]
  },
  {
   "cell_type": "code",
   "execution_count": 12,
   "metadata": {},
   "outputs": [
    {
     "name": "stdout",
     "output_type": "stream",
     "text": [
      "Downloading file: https://pjreddie.com/media/files/mnist_train.csv to C:\\Users\\charl/sciencedonnees/mnist_train.csv \n",
      "\n",
      "Skipping as mnist_train.csv already exist in C:\\Users\\charl/sciencedonnees/mnist_train.csv \n",
      "\n",
      "Downloading file: https://pjreddie.com/media/files/mnist_test.csv to C:\\Users\\charl/sciencedonnees/mnist_test.csv \n",
      "\n",
      "Skipping as mnist_test.csv already exist in C:\\Users\\charl/sciencedonnees/mnist_test.csv \n",
      "\n"
     ]
    }
   ],
   "source": [
    "HOMEPATH = os.path.expanduser('~')\n",
    "workpath = HOMEPATH+'/sciencedonnees/'\n",
    "urls = {'train':'https://pjreddie.com/media/files/mnist_train.csv', \n",
    "        'test':'https://pjreddie.com/media/files/mnist_test.csv'}\n",
    "\n",
    "files = {'train':'mnist_train.csv', 'test':'mnist_test.csv'}\n",
    "\n",
    "set_environment(workpath, urls, files)"
   ]
  },
  {
   "cell_type": "markdown",
   "metadata": {},
   "source": [
    "### get the train and test dataset as we need it"
   ]
  },
  {
   "cell_type": "code",
   "execution_count": 13,
   "metadata": {},
   "outputs": [],
   "source": [
    "def get_dataset(ds_file):\n",
    "    '''Open train and test datasets, read them and, store their records to a list'''\n",
    "    with open (ds_file, 'r') as t_file:\n",
    "        ds = csv.reader(t_file)\n",
    "        records = []\n",
    "        label = []\n",
    "        dataset = []\n",
    "        for line in ds:\n",
    "            records.append([int(i) for i in line]) # list comprehension to convert lists' strings to ints on the fly        \n",
    "        # separate col(0) - label from the rest of the list\n",
    "        for line in records:\n",
    "            label.append(line[0])\n",
    "        for line in records:\n",
    "            dataset.append(line[1:])\n",
    "    return records,label,dataset"
   ]
  },
  {
   "cell_type": "code",
   "execution_count": 65,
   "metadata": {},
   "outputs": [
    {
     "name": "stdout",
     "output_type": "stream",
     "text": [
      "[5, 0, 0, 0, 0, 0, 0, 0, 0, 0, 0, 0, 0, 0, 0, 0, 0, 0, 0, 0, 0, 0, 0, 0, 0, 0, 0, 0, 0, 0, 0, 0, 0, 0, 0, 0, 0, 0, 0, 0, 0, 0, 0, 0, 0, 0, 0, 0, 0, 0, 0, 0, 0, 0, 0, 0, 0, 0, 0, 0, 0, 0, 0, 0, 0, 0, 0, 0, 0, 0, 0, 0, 0, 0, 0, 0, 0, 0, 0, 0, 0, 0, 0, 0, 0, 0, 0, 0, 0, 0, 0, 0, 0, 0, 0, 0, 0, 0, 0, 0, 0, 0, 0, 0, 0, 0, 0, 0, 0, 0, 0, 0, 0, 0, 0, 0, 0, 0, 0, 0, 0, 0, 0, 0, 0, 0, 0, 0, 0, 0, 0, 0, 0, 0, 0, 0, 0, 0, 0, 0, 0, 0, 0, 0, 0, 0, 0, 0, 0, 0, 0, 0, 0, 3, 18, 18, 18, 126, 136, 175, 26, 166, 255, 247, 127, 0, 0, 0, 0, 0, 0, 0, 0, 0, 0, 0, 0, 30, 36, 94, 154, 170, 253, 253, 253, 253, 253, 225, 172, 253, 242, 195, 64, 0, 0, 0, 0, 0, 0, 0, 0, 0, 0, 0, 49, 238, 253, 253, 253, 253, 253, 253, 253, 253, 251, 93, 82, 82, 56, 39, 0, 0, 0, 0, 0, 0, 0, 0, 0, 0, 0, 0, 18, 219, 253, 253, 253, 253, 253, 198, 182, 247, 241, 0, 0, 0, 0, 0, 0, 0, 0, 0, 0, 0, 0, 0, 0, 0, 0, 0, 0, 80, 156, 107, 253, 253, 205, 11, 0, 43, 154, 0, 0, 0, 0, 0, 0, 0, 0, 0, 0, 0, 0, 0, 0, 0, 0, 0, 0, 0, 14, 1, 154, 253, 90, 0, 0, 0, 0, 0, 0, 0, 0, 0, 0, 0, 0, 0, 0, 0, 0, 0, 0, 0, 0, 0, 0, 0, 0, 0, 139, 253, 190, 2, 0, 0, 0, 0, 0, 0, 0, 0, 0, 0, 0, 0, 0, 0, 0, 0, 0, 0, 0, 0, 0, 0, 0, 0, 11, 190, 253, 70, 0, 0, 0, 0, 0, 0, 0, 0, 0, 0, 0, 0, 0, 0, 0, 0, 0, 0, 0, 0, 0, 0, 0, 0, 0, 35, 241, 225, 160, 108, 1, 0, 0, 0, 0, 0, 0, 0, 0, 0, 0, 0, 0, 0, 0, 0, 0, 0, 0, 0, 0, 0, 0, 0, 81, 240, 253, 253, 119, 25, 0, 0, 0, 0, 0, 0, 0, 0, 0, 0, 0, 0, 0, 0, 0, 0, 0, 0, 0, 0, 0, 0, 0, 45, 186, 253, 253, 150, 27, 0, 0, 0, 0, 0, 0, 0, 0, 0, 0, 0, 0, 0, 0, 0, 0, 0, 0, 0, 0, 0, 0, 0, 16, 93, 252, 253, 187, 0, 0, 0, 0, 0, 0, 0, 0, 0, 0, 0, 0, 0, 0, 0, 0, 0, 0, 0, 0, 0, 0, 0, 0, 0, 249, 253, 249, 64, 0, 0, 0, 0, 0, 0, 0, 0, 0, 0, 0, 0, 0, 0, 0, 0, 0, 0, 0, 0, 0, 46, 130, 183, 253, 253, 207, 2, 0, 0, 0, 0, 0, 0, 0, 0, 0, 0, 0, 0, 0, 0, 0, 0, 0, 0, 0, 39, 148, 229, 253, 253, 253, 250, 182, 0, 0, 0, 0, 0, 0, 0, 0, 0, 0, 0, 0, 0, 0, 0, 0, 0, 0, 24, 114, 221, 253, 253, 253, 253, 201, 78, 0, 0, 0, 0, 0, 0, 0, 0, 0, 0, 0, 0, 0, 0, 0, 0, 0, 23, 66, 213, 253, 253, 253, 253, 198, 81, 2, 0, 0, 0, 0, 0, 0, 0, 0, 0, 0, 0, 0, 0, 0, 0, 0, 18, 171, 219, 253, 253, 253, 253, 195, 80, 9, 0, 0, 0, 0, 0, 0, 0, 0, 0, 0, 0, 0, 0, 0, 0, 0, 55, 172, 226, 253, 253, 253, 253, 244, 133, 11, 0, 0, 0, 0, 0, 0, 0, 0, 0, 0, 0, 0, 0, 0, 0, 0, 0, 0, 136, 253, 253, 253, 212, 135, 132, 16, 0, 0, 0, 0, 0, 0, 0, 0, 0, 0, 0, 0, 0, 0, 0, 0, 0, 0, 0, 0, 0, 0, 0, 0, 0, 0, 0, 0, 0, 0, 0, 0, 0, 0, 0, 0, 0, 0, 0, 0, 0, 0, 0, 0, 0, 0, 0, 0, 0, 0, 0, 0, 0, 0, 0, 0, 0, 0, 0, 0, 0, 0, 0, 0, 0, 0, 0, 0, 0, 0, 0, 0, 0, 0, 0, 0, 0, 0, 0, 0, 0, 0, 0, 0, 0, 0, 0, 0, 0, 0, 0, 0, 0, 0, 0, 0, 0, 0, 0, 0]\n"
     ]
    }
   ],
   "source": [
    "# get our datasets\n",
    "raw_train_ds, train_labels, train_data = get_dataset(workpath+files['train'])\n",
    "raw_test_ds, test_labels, test_data = get_dataset(workpath+files['test'])\n",
    "\n",
    "print (raw_train_ds[0])\n",
    "#print (train_labels[0])"
   ]
  },
  {
   "cell_type": "markdown",
   "metadata": {},
   "source": [
    "## Dataset test:  \n",
    "1. Print the first 3 labels\n",
    "2. Plot the first 3 entries in the training set to validate they match the labels"
   ]
  },
  {
   "cell_type": "code",
   "execution_count": 15,
   "metadata": {
    "scrolled": true
   },
   "outputs": [
    {
     "name": "stdout",
     "output_type": "stream",
     "text": [
      "Label = 5\n"
     ]
    },
    {
     "data": {
      "image/png": "[encoded data removed]",
      "text/plain": [
       "<Figure size 432x288 with 1 Axes>"
      ]
     },
     "metadata": {},
     "output_type": "display_data"
    },
    {
     "name": "stdout",
     "output_type": "stream",
     "text": [
      "Label = 0\n"
     ]
    },
    {
     "data": {
      "image/png": "[encoded data removed]",
      "text/plain": [
       "<Figure size 432x288 with 1 Axes>"
      ]
     },
     "metadata": {},
     "output_type": "display_data"
    },
    {
     "name": "stdout",
     "output_type": "stream",
     "text": [
      "Label = 4\n"
     ]
    },
    {
     "data": {
      "image/png": "[encoded data removed]",
      "text/plain": [
       "<Figure size 432x288 with 1 Axes>"
      ]
     },
     "metadata": {},
     "output_type": "display_data"
    }
   ],
   "source": [
    "import numpy as np\n",
    "import matplotlib.pyplot as plt\n",
    "\n",
    "#reshape gives a new shape to an array without changing its data.\n",
    "for i in range(0,3):\n",
    "    trainsetmtx = np.reshape(train_data[i], (28,28))\n",
    "    imgplot = plt.imshow(trainsetmtx, cmap=plt.cm.get_cmap(\"gray_r\"))\n",
    "    print ('Label = %s' % train_labels[i]), plt.show()"
   ]
  },
  {
   "cell_type": "markdown",
   "metadata": {},
   "source": [
    "**Proposed notion of similarity"
   ]
  },
  {
   "cell_type": "markdown",
   "metadata": {},
   "source": [
    "We have to define our own measure of similarity, and compare its performance to the provided measures."
   ]
  },
  {
   "cell_type": "code",
   "execution_count": 16,
   "metadata": {},
   "outputs": [
    {
     "data": {
      "text/plain": [
       "'C:\\\\Users\\\\charl\\\\OneDrive\\\\CS materials\\\\GitHub ressources\\\\sciencedonnees\\\\MNIST'"
      ]
     },
     "execution_count": 16,
     "metadata": {},
     "output_type": "execute_result"
    }
   ],
   "source": [
    "pwd"
   ]
  },
  {
   "cell_type": "code",
   "execution_count": 17,
   "metadata": {},
   "outputs": [],
   "source": [
    "#Define original similarity measure\n",
    "import dist_norm"
   ]
  },
  {
   "cell_type": "markdown",
   "metadata": {},
   "source": [
    "# K-Mean"
   ]
  },
  {
   "cell_type": "code",
   "execution_count": null,
   "metadata": {},
   "outputs": [],
   "source": [
    "# http://scikit-learn.org/stable/modules/generated/sklearn.cluster.KMeans.html\n",
    "from sklearn import neighbors, metrics\n",
    "from sklearn.cluster import KMeans"
   ]
  },
  {
   "cell_type": "code",
   "execution_count": null,
   "metadata": {},
   "outputs": [],
   "source": []
  },
  {
   "cell_type": "markdown",
   "metadata": {},
   "source": [
    "# Binary partition"
   ]
  },
  {
   "cell_type": "code",
   "execution_count": null,
   "metadata": {},
   "outputs": [],
   "source": []
  },
  {
   "cell_type": "markdown",
   "metadata": {},
   "source": [
    "# PCoA"
   ]
  },
  {
   "cell_type": "code",
   "execution_count": 33,
   "metadata": {},
   "outputs": [],
   "source": [
    "import pandas as pd\n",
    "import numpy as np\n",
    "import matplotlib.pyplot as plt\n",
    "import sklearn as skl\n",
    "import time\n",
    "\n",
    "from sklearn.manifold import MDS\n",
    "from matplotlib import offsetbox\n"
   ]
  },
  {
   "cell_type": "code",
   "execution_count": 19,
   "metadata": {},
   "outputs": [],
   "source": [
    "# convert datasets to Numpy objects\n",
    "y_train = np.asarray(train_labels)\n",
    "X_train = np.asarray(train_data) \n",
    "y_test = np.asarray(test_labels) \n",
    "X_test = np.asarray(test_data)"
   ]
  },
  {
   "cell_type": "code",
   "execution_count": 40,
   "metadata": {
    "scrolled": true
   },
   "outputs": [
    {
     "name": "stdout",
     "output_type": "stream",
     "text": [
      "Processing...\n",
      "Processing has completed!19900.\n"
     ]
    }
   ],
   "source": [
    "\n",
    "n_batches = 200 # size of batch\n",
    "\n",
    "#Distance matrix\n",
    "D = dist_norm.dist_norm.norm_distance(X_train[:n_batches,:])"
   ]
  },
  {
   "cell_type": "code",
   "execution_count": 49,
   "metadata": {},
   "outputs": [
    {
     "name": "stdout",
     "output_type": "stream",
     "text": [
      "[386980713.53274167, 186021879.30015469, 108001544.07884368, 72461781.560462832, 52998205.26217483, 40840530.835693188, 33170314.071949381, 27855692.390449584, 23880333.423626717, 20783207.751822378, 18181321.739305757, 16459960.280437203, 14793915.160039131, 13452976.106104936, 12175359.832659965, 11178684.854557224, 10327328.511774639, 9537869.1901555117, 8865165.4561969154, 8304796.7863280866, 7780217.0274668401, 7280457.3050432205, 6894549.2120208917, 6494005.6168799093, 6127805.8809530782, 5795614.6168512199, 5565530.4553680308, 5228091.5209536562, 4980014.8734703474, 4801866.7614031173, 4542770.8245456247, 4392750.2178925071, 4177074.6198510402, 4038497.8196175988, 3823300.7751047323, 3716100.567841412, 3576937.9139908794, 3435593.4763678825, 3314645.2331179259, 3176609.1895509306, 3083942.3149471362, 2980237.4915261269, 2880696.3394842814, 2773367.0689399289, 2704658.5296146134, 2602175.8633835884, 2517233.6602584347, 2442619.6659067869, 2371056.9604965136, 2295798.6862700828, 2235327.0565001485, 2148245.5016986025, 2104085.7198266806, 2035444.1481113094, 1989667.738173059, 1932674.0009799297, 1882899.674131243, 1810546.1523281275, 1784641.3786947993, 1718322.0274542882, 1687715.6325051137, 1649154.8466879088, 1594120.1018580762, 1553203.3540570743, 1502111.5411847178, 1484298.8789424014, 1449865.6310324979, 1406678.0699507527, 1371409.2613819893, 1346064.1689509402, 1313639.4951265461, 1283137.9985708259, 1249198.1271496057, 1218341.0755993342, 1195244.1012707944, 1164719.7415856561, 1144605.5392326559, 1117712.2216168169, 1087386.014911775, 1059669.5215383926, 1031881.3864509554, 1014289.3635059563, 998639.01170431217, 975573.59326353576, 958551.39469096228, 928245.7622354331, 911997.06108718424, 894570.1840793828, 868988.14643825381, 864741.24157474237, 845788.67858436098, 816846.1946955492, 800475.27581885085, 789551.50465366349, 770266.97222102399, 750092.96327877068, 740924.55801877985, 724057.59228799155, 717134.50665257138, 695499.10723327985, 687943.71147858538, 668100.11893501179, 657734.31260305631, 646879.65378757892, 633435.67807972978, 622022.1021811848, 606326.71054927725, 597794.3606687804, 586227.47781434376, 580030.31240748218, 561899.22570327518, 552927.29246133764, 542523.08847341198, 536076.5163521599, 531595.2613857761, 520038.38143690443, 501396.3599748608, 493547.98307824816, 486907.80874646938, 480212.55057185667, 474060.84886698629, 464487.00884709746, 456747.62921149778, 449532.68030460016, 443283.94428626407, 430982.93541863462, 429224.70780102833, 419357.17205280554, 412835.87489845295, 404046.54894138628, 397806.47445141023, 394291.06015564187, 384017.00545908109, 384950.66516442533, 375353.40453660849, 366047.65500281251, 361779.38555604673, 356546.8780732801, 353752.4749890042, 347155.87514251249, 342159.00735609204, 337923.89271555428, 332181.50466484943, 326029.62552678387, 322654.4795152049, 317858.97912530566, 309657.62404389092, 308568.21078802651, 304975.29192636278, 300865.06407264626, 295392.4670479364, 294471.50575744559, 287905.76352839381, 284578.05894006899, 280493.04766700917, 271800.21425277216, 271550.43254071835, 270531.09172214929, 266900.64250129519, 260329.78457770724, 260278.1087030195, 249583.97928469605, 249202.50529911224, 250332.90733723712, 246638.48442514596, 239855.41316485501, 238746.07669609389, 237195.91740941285, 232512.77378640499, 232552.12544754654, 227621.58838826756, 226039.76575721992, 221882.81087167212, 220636.73887495263, 213308.45947046418, 213941.98669600024, 207720.73989575403, 207616.01838564634, 203865.99224122663, 200771.97802814946, 199738.21177778358, 199688.64828618011, 197798.88496944559, 197319.13031861669, 192021.43812782891, 188130.24492517841, 189929.31039343771, 189289.69955797744, 184347.76879915819, 184817.40442389168, 181666.37960486842, 180884.9794038668, 176942.65087551827, 176777.08261499461, 174361.88698068244, 172164.65779321594, 169807.36283434145, 167898.96425748512]\n"
     ]
    },
    {
     "data": {
      "text/plain": [
       "Text(0,0.5,'stress')"
      ]
     },
     "execution_count": 49,
     "metadata": {},
     "output_type": "execute_result"
    },
    {
     "data": {
      "image/png": "[encoded data removed]",
      "text/plain": [
       "<Figure size 432x288 with 1 Axes>"
      ]
     },
     "metadata": {},
     "output_type": "display_data"
    }
   ],
   "source": [
    "#optimal number of components\n",
    "k_range = range(1, min(700, D.shape[0]-1))\n",
    "stress = [MDS(dissimilarity='precomputed', n_components=k,\n",
    "            random_state=42, max_iter=300, eps=1e-9).fit(D).stress_ for k in k_range]\n",
    "print(stress)\n",
    "plt.plot(k_range, stress)\n",
    "plt.xlabel(\"k\")\n",
    "plt.ylabel(\"stress\")\n",
    "\n",
    "#print(\"K = %f\" %arg_min(stress[k]))\n",
    "# n_comp = 10"
   ]
  },
  {
   "cell_type": "code",
   "execution_count": 70,
   "metadata": {},
   "outputs": [],
   "source": [
    "n_comp = 25 # optimal number of components\n"
   ]
  },
  {
   "cell_type": "code",
   "execution_count": 94,
   "metadata": {},
   "outputs": [],
   "source": [
    "# Scale and visualize the embedding vectors\n",
    "def plot_embedding(X, title=None):\n",
    "    x_min, x_max = np.min(X, 0), np.max(X, 0)\n",
    "    X = (X - x_min) / (x_max - x_min)\n",
    "\n",
    "    plt.figure()\n",
    "    ax = plt.subplot(111)\n",
    "    for i in range(X.shape[0]):\n",
    "        plt.text(X[i, 0], X[i, 1], str(y[i]),\n",
    "                 color=plt.cm.Set1(y[i] / 10.),\n",
    "                 fontdict={'weight': 'bold', 'size': 9})\n",
    "\n",
    "    if hasattr(offsetbox, 'AnnotationBbox'):\n",
    "        # only print thumbnails with matplotlib > 1.0\n",
    "        shown_images = np.array([[1., 1.]])  # just something big\n",
    "        print(shown_images)\n",
    "        for i in range(X.shape[0]):\n",
    "            dist = np.sum((X[i] - shown_images) ** 2, 1)\n",
    "            if np.min(dist) < 4e-3:\n",
    "                # don't show points that are too close\n",
    "                continue\n",
    "            shown_images = np.r_[shown_images, [X[i]]]\n",
    "            imagebox = offsetbox.AnnotationBbox(\n",
    "                offsetbox.OffsetImage(digits.images[i], cmap=plt.cm.gray_r),\n",
    "                X[i])\n",
    "            ax.add_artist(imagebox)\n",
    "    plt.xticks([]), plt.yticks([])\n",
    "    if title is not None:\n",
    "        plt.title(title)\n",
    "        \n"
   ]
  },
  {
   "cell_type": "code",
   "execution_count": 95,
   "metadata": {},
   "outputs": [
    {
     "name": "stdout",
     "output_type": "stream",
     "text": [
      "Error with normaliz_dist: 8386067\n",
      "[[ 1.  1.]]\n"
     ]
    },
    {
     "ename": "ValueError",
     "evalue": "operands could not be broadcast together with shapes (25,) (1,2) ",
     "output_type": "error",
     "traceback": [
      "\u001b[1;31m---------------------------------------------------------------------------\u001b[0m",
      "\u001b[1;31mValueError\u001b[0m                                Traceback (most recent call last)",
      "\u001b[1;32m<ipython-input-95-c827f2265830>\u001b[0m in \u001b[0;36m<module>\u001b[1;34m()\u001b[0m\n\u001b[0;32m      5\u001b[0m \u001b[0mprint\u001b[0m\u001b[1;33m(\u001b[0m\u001b[1;34m\"Error with normaliz_dist: %d\"\u001b[0m \u001b[1;33m%\u001b[0m\u001b[0mpcoa_norm\u001b[0m\u001b[1;33m.\u001b[0m\u001b[0mstress_\u001b[0m\u001b[1;33m)\u001b[0m\u001b[1;33m\u001b[0m\u001b[0m\n\u001b[0;32m      6\u001b[0m \u001b[1;33m\u001b[0m\u001b[0m\n\u001b[1;32m----> 7\u001b[1;33m \u001b[0mplot_embedding\u001b[0m\u001b[1;33m(\u001b[0m\u001b[0mX_transf_norm\u001b[0m\u001b[1;33m,\u001b[0m\u001b[1;34m\"NORMALIZED - MDS embedding of the digits (time %.2fs)\"\u001b[0m \u001b[1;33m)\u001b[0m \u001b[1;31m#%(time() - t0)\u001b[0m\u001b[1;33m\u001b[0m\u001b[0m\n\u001b[0m",
      "\u001b[1;32m<ipython-input-94-6e44efee72e3>\u001b[0m in \u001b[0;36mplot_embedding\u001b[1;34m(X, title)\u001b[0m\n\u001b[0;32m     16\u001b[0m         \u001b[0mprint\u001b[0m\u001b[1;33m(\u001b[0m\u001b[0mshown_images\u001b[0m\u001b[1;33m)\u001b[0m\u001b[1;33m\u001b[0m\u001b[0m\n\u001b[0;32m     17\u001b[0m         \u001b[1;32mfor\u001b[0m \u001b[0mi\u001b[0m \u001b[1;32min\u001b[0m \u001b[0mrange\u001b[0m\u001b[1;33m(\u001b[0m\u001b[0mX\u001b[0m\u001b[1;33m.\u001b[0m\u001b[0mshape\u001b[0m\u001b[1;33m[\u001b[0m\u001b[1;36m0\u001b[0m\u001b[1;33m]\u001b[0m\u001b[1;33m)\u001b[0m\u001b[1;33m:\u001b[0m\u001b[1;33m\u001b[0m\u001b[0m\n\u001b[1;32m---> 18\u001b[1;33m             \u001b[0mdist\u001b[0m \u001b[1;33m=\u001b[0m \u001b[0mnp\u001b[0m\u001b[1;33m.\u001b[0m\u001b[0msum\u001b[0m\u001b[1;33m(\u001b[0m\u001b[1;33m(\u001b[0m\u001b[0mX\u001b[0m\u001b[1;33m[\u001b[0m\u001b[0mi\u001b[0m\u001b[1;33m]\u001b[0m \u001b[1;33m-\u001b[0m \u001b[0mshown_images\u001b[0m\u001b[1;33m)\u001b[0m \u001b[1;33m**\u001b[0m \u001b[1;36m2\u001b[0m\u001b[1;33m,\u001b[0m \u001b[1;36m1\u001b[0m\u001b[1;33m)\u001b[0m\u001b[1;33m\u001b[0m\u001b[0m\n\u001b[0m\u001b[0;32m     19\u001b[0m             \u001b[1;32mif\u001b[0m \u001b[0mnp\u001b[0m\u001b[1;33m.\u001b[0m\u001b[0mmin\u001b[0m\u001b[1;33m(\u001b[0m\u001b[0mdist\u001b[0m\u001b[1;33m)\u001b[0m \u001b[1;33m<\u001b[0m \u001b[1;36m4e-3\u001b[0m\u001b[1;33m:\u001b[0m\u001b[1;33m\u001b[0m\u001b[0m\n\u001b[0;32m     20\u001b[0m                 \u001b[1;31m# don't show points that are too close\u001b[0m\u001b[1;33m\u001b[0m\u001b[1;33m\u001b[0m\u001b[0m\n",
      "\u001b[1;31mValueError\u001b[0m: operands could not be broadcast together with shapes (25,) (1,2) "
     ]
    },
    {
     "data": {
      "image/png": "[encoded data removed]",
      "text/plain": [
       "<Figure size 432x288 with 1 Axes>"
      ]
     },
     "metadata": {},
     "output_type": "display_data"
    }
   ],
   "source": [
    "y = y_train\n",
    "pcoa_norm = MDS(dissimilarity = 'precomputed', n_components=n_comp, n_init=3, max_iter=100)\n",
    "X_transf_norm = pcoa_norm.fit_transform(D,y_train[:n_batches])\n",
    "\n",
    "print(\"Error with normaliz_dist: %d\" %pcoa_norm.stress_)\n",
    "\n",
    "plot_embedding(X_transf_norm,\"NORMALIZED - MDS embedding of the digits (time %.2fs)\" ) #%(time() - t0)\n",
    "\n"
   ]
  },
  {
   "cell_type": "code",
   "execution_count": 73,
   "metadata": {},
   "outputs": [
    {
     "data": {
      "text/plain": [
       "(200, 25)"
      ]
     },
     "execution_count": 73,
     "metadata": {},
     "output_type": "execute_result"
    }
   ],
   "source": [
    "X_transf_norm.shape"
   ]
  },
  {
   "cell_type": "code",
   "execution_count": 74,
   "metadata": {},
   "outputs": [
    {
     "name": "stdout",
     "output_type": "stream",
     "text": [
      "Error with eucl_distance: 201850579\n"
     ]
    },
    {
     "ename": "ValueError",
     "evalue": "operands could not be broadcast together with shapes (25,) (1,2) ",
     "output_type": "error",
     "traceback": [
      "\u001b[1;31m---------------------------------------------------------------------------\u001b[0m",
      "\u001b[1;31mValueError\u001b[0m                                Traceback (most recent call last)",
      "\u001b[1;32m<ipython-input-74-e990e1409f35>\u001b[0m in \u001b[0;36m<module>\u001b[1;34m()\u001b[0m\n\u001b[0;32m      2\u001b[0m \u001b[0mX_transf_eucl\u001b[0m \u001b[1;33m=\u001b[0m \u001b[0mpcoa_eucl\u001b[0m\u001b[1;33m.\u001b[0m\u001b[0mfit_transform\u001b[0m\u001b[1;33m(\u001b[0m\u001b[0mX_train\u001b[0m\u001b[1;33m[\u001b[0m\u001b[1;33m:\u001b[0m\u001b[0mn_batches\u001b[0m\u001b[1;33m,\u001b[0m\u001b[1;33m:\u001b[0m\u001b[1;33m]\u001b[0m\u001b[1;33m,\u001b[0m\u001b[0my_train\u001b[0m\u001b[1;33m[\u001b[0m\u001b[1;33m:\u001b[0m\u001b[0mn_batches\u001b[0m\u001b[1;33m]\u001b[0m\u001b[1;33m)\u001b[0m\u001b[1;33m\u001b[0m\u001b[0m\n\u001b[0;32m      3\u001b[0m \u001b[0mprint\u001b[0m\u001b[1;33m(\u001b[0m\u001b[1;34m\"Error with eucl_distance: %d\"\u001b[0m \u001b[1;33m%\u001b[0m\u001b[0mpcoa_eucl\u001b[0m\u001b[1;33m.\u001b[0m\u001b[0mstress_\u001b[0m\u001b[1;33m)\u001b[0m\u001b[1;33m\u001b[0m\u001b[0m\n\u001b[1;32m----> 4\u001b[1;33m \u001b[0mplot_embedding\u001b[0m\u001b[1;33m(\u001b[0m\u001b[0mX_transf_eucl\u001b[0m\u001b[1;33m,\u001b[0m\u001b[1;34m\"EUCLIDE - MDS embedding of the digits (time %.2fs)\"\u001b[0m \u001b[1;33m)\u001b[0m \u001b[1;31m#%(time() - t0)\u001b[0m\u001b[1;33m\u001b[0m\u001b[0m\n\u001b[0m",
      "\u001b[1;32m<ipython-input-71-74122ad008b9>\u001b[0m in \u001b[0;36mplot_embedding\u001b[1;34m(X, title)\u001b[0m\n\u001b[0;32m     15\u001b[0m         \u001b[0mshown_images\u001b[0m \u001b[1;33m=\u001b[0m \u001b[0mnp\u001b[0m\u001b[1;33m.\u001b[0m\u001b[0marray\u001b[0m\u001b[1;33m(\u001b[0m\u001b[1;33m[\u001b[0m\u001b[1;33m[\u001b[0m\u001b[1;36m1.\u001b[0m\u001b[1;33m,\u001b[0m \u001b[1;36m1.\u001b[0m\u001b[1;33m]\u001b[0m\u001b[1;33m]\u001b[0m\u001b[1;33m)\u001b[0m  \u001b[1;31m# just something big\u001b[0m\u001b[1;33m\u001b[0m\u001b[0m\n\u001b[0;32m     16\u001b[0m         \u001b[1;32mfor\u001b[0m \u001b[0mi\u001b[0m \u001b[1;32min\u001b[0m \u001b[0mrange\u001b[0m\u001b[1;33m(\u001b[0m\u001b[0mX\u001b[0m\u001b[1;33m.\u001b[0m\u001b[0mshape\u001b[0m\u001b[1;33m[\u001b[0m\u001b[1;36m0\u001b[0m\u001b[1;33m]\u001b[0m\u001b[1;33m)\u001b[0m\u001b[1;33m:\u001b[0m\u001b[1;33m\u001b[0m\u001b[0m\n\u001b[1;32m---> 17\u001b[1;33m             \u001b[0mdist\u001b[0m \u001b[1;33m=\u001b[0m \u001b[0mnp\u001b[0m\u001b[1;33m.\u001b[0m\u001b[0msum\u001b[0m\u001b[1;33m(\u001b[0m\u001b[1;33m(\u001b[0m\u001b[0mX\u001b[0m\u001b[1;33m[\u001b[0m\u001b[0mi\u001b[0m\u001b[1;33m]\u001b[0m \u001b[1;33m-\u001b[0m \u001b[0mshown_images\u001b[0m\u001b[1;33m)\u001b[0m \u001b[1;33m**\u001b[0m \u001b[1;36m2\u001b[0m\u001b[1;33m,\u001b[0m \u001b[1;36m1\u001b[0m\u001b[1;33m)\u001b[0m\u001b[1;33m\u001b[0m\u001b[0m\n\u001b[0m\u001b[0;32m     18\u001b[0m             \u001b[1;32mif\u001b[0m \u001b[0mnp\u001b[0m\u001b[1;33m.\u001b[0m\u001b[0mmin\u001b[0m\u001b[1;33m(\u001b[0m\u001b[0mdist\u001b[0m\u001b[1;33m)\u001b[0m \u001b[1;33m<\u001b[0m \u001b[1;36m4e-3\u001b[0m\u001b[1;33m:\u001b[0m\u001b[1;33m\u001b[0m\u001b[0m\n\u001b[0;32m     19\u001b[0m                 \u001b[1;31m# don't show points that are too close\u001b[0m\u001b[1;33m\u001b[0m\u001b[1;33m\u001b[0m\u001b[0m\n",
      "\u001b[1;31mValueError\u001b[0m: operands could not be broadcast together with shapes (25,) (1,2) "
     ]
    },
    {
     "data": {
      "image/png": "[encoded data removed]",
      "text/plain": [
       "<Figure size 432x288 with 1 Axes>"
      ]
     },
     "metadata": {},
     "output_type": "display_data"
    }
   ],
   "source": [
    "pcoa_eucl = MDS(dissimilarity = 'euclidean', n_components=n_comp)\n",
    "X_transf_eucl = pcoa_eucl.fit_transform(X_train[:n_batches,:],y_train[:n_batches])\n",
    "print(\"Error with eucl_distance: %d\" %pcoa_eucl.stress_)\n",
    "plot_embedding(X_transf_eucl,\"EUCLIDE - MDS embedding of the digits (time %.2fs)\" ) #%(time() - t0)\n"
   ]
  },
  {
   "cell_type": "code",
   "execution_count": null,
   "metadata": {},
   "outputs": [],
   "source": [
    "# Arbitrary choice of K=2 components\n",
    "from sklearn.manifold import MDS\n",
    "mds = MDS(dissimilarity='precomputed', n_components=2, random_state=40, max_˓→iter=3000, eps=1e-9)\n",
    "X = mds.fit_transform(D)"
   ]
  },
  {
   "cell_type": "markdown",
   "metadata": {},
   "source": [
    "# Isomap"
   ]
  },
  {
   "cell_type": "code",
   "execution_count": null,
   "metadata": {},
   "outputs": [],
   "source": [
    "#http://scikit-learn.org/stable/modules/generated/sklearn.manifold.Isomap.html#sklearn.manifold.Isomap\n",
    "from sklearn import manifold"
   ]
  },
  {
   "cell_type": "markdown",
   "metadata": {},
   "source": [
    "# KNN"
   ]
  },
  {
   "cell_type": "code",
   "execution_count": null,
   "metadata": {},
   "outputs": [],
   "source": [
    "#http://scikit-learn.org/stable/modules/neighbors.html\n",
    "from sklearn.neighbors import NearestNeighbors"
   ]
  }
 ],
 "metadata": {
  "kernelspec": {
   "display_name": "Python 3",
   "language": "python",
   "name": "python3"
  },
  "language_info": {
   "codemirror_mode": {
    "name": "ipython",
    "version": 3
   },
   "file_extension": ".py",
   "mimetype": "text/x-python",
   "name": "python",
   "nbconvert_exporter": "python",
   "pygments_lexer": "ipython3",
   "version": "3.6.5"
  }
 },
 "nbformat": 4,
 "nbformat_minor": 2
}
