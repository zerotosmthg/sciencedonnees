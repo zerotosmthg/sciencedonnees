{
 "cells": [
  {
   "cell_type": "markdown",
   "metadata": {},
   "source": [
    "# Mnist lab \n",
    "\n",
    "## Option 1: Using standard python libraries and using the csv dataset\n",
    "## Option 2: Using tensorflow + keras (to review)"
   ]
  },
  {
   "cell_type": "markdown",
   "metadata": {},
   "source": [
    "## Option 1: \n",
    "### Set the environment\n",
    "1. Create the working directory called \"sciencedonnees\" based on the user's home\n",
    "2. Download the mnist dataset in csv format.  it is also possible to download the original dataset from http://yann.lecun.com/exdb/mnist/ (gz files), decompress the files and then (a) convert the files to csv or (b) convert the files to a numpy array  "
   ]
  },
  {
   "cell_type": "code",
   "execution_count": 3,
   "metadata": {},
   "outputs": [],
   "source": [
    "import urllib.request\n",
    "import os\n",
    "import csv"
   ]
  },
  {
   "cell_type": "code",
   "execution_count": 4,
   "metadata": {},
   "outputs": [],
   "source": [
    "def set_environment(workpath, urls, files):\n",
    "    ''' function to set the working directory, if it does not exist, \n",
    "        it will create it, and download the dataset'''\n",
    "    if not os.path.exists(workpath):\n",
    "        os.makedirs(workpath)\n",
    "        \n",
    "    for key, value in files.items():\n",
    "        file_name = workpath+value\n",
    "        print ('Downloading file: %s to %s %s' % (urls[key], file_name, '\\n'))\n",
    "        if os.path.isfile(file_name):\n",
    "            print ('Skipping as %s already exist in %s %s' % (value, file_name, '\\n') )\n",
    "        else:\n",
    "            download_file(urls[key], workpath+value)\n",
    "            print ('done'+'\\n')\n",
    "    \n",
    "        \n",
    "def download_file(f_url,f_dest):\n",
    "    '''function to download any file'''\n",
    "    urllib.request.urlretrieve(f_url, f_dest)"
   ]
  },
  {
   "cell_type": "markdown",
   "metadata": {},
   "source": [
    "#### If we want to use the original dataset, we can do it be defining the urls and files dictionaries as follows:\n",
    "\n",
    "```python\n",
    "urls={'train_images':'http://yann.lecun.com/exdb/mnist/train-images-idx3-ubyte.gz',\n",
    "      'train_labels':'http://yann.lecun.com/exdb/mnist/train-labels-idx1-ubyte.gz',\n",
    "      'test_images':'http://yann.lecun.com/exdb/mnist/t10k-images-idx3-ubyte.gz',\n",
    "      'test_labels':'http://yann.lecun.com/exdb/mnist/t10k-labels-idx1-ubyte.gz'}\n",
    "\n",
    "files = {'train_images':'train-images-idx3-ubyte.gz',\n",
    "         'train_labels':'train-labels-idx1-ubyte.gz',\n",
    "         'test_images':'t10k-images-idx3-ubyte.gz',\n",
    "         'test_labels':'t10k-labels-idx1-ubyte.gz'}\n",
    "```"
   ]
  },
  {
   "cell_type": "code",
   "execution_count": 5,
   "metadata": {},
   "outputs": [
    {
     "name": "stdout",
     "output_type": "stream",
     "text": [
      "Downloading file: https://pjreddie.com/media/files/mnist_train.csv to C:\\Users\\charl/sciencedonnees/mnist_train.csv \n",
      "\n",
      "done\n",
      "\n",
      "Downloading file: https://pjreddie.com/media/files/mnist_test.csv to C:\\Users\\charl/sciencedonnees/mnist_test.csv \n",
      "\n",
      "done\n",
      "\n"
     ]
    }
   ],
   "source": [
    "HOMEPATH = os.path.expanduser('~')\n",
    "workpath = HOMEPATH+'/sciencedonnees/'\n",
    "urls = {'train':'https://pjreddie.com/media/files/mnist_train.csv', \n",
    "        'test':'https://pjreddie.com/media/files/mnist_test.csv'}\n",
    "\n",
    "files = {'train':'mnist_train.csv', 'test':'mnist_test.csv'}\n",
    "\n",
    "set_environment(workpath, urls, files)"
   ]
  },
  {
   "cell_type": "markdown",
   "metadata": {},
   "source": [
    "### get the train and test dataset as we need it"
   ]
  },
  {
   "cell_type": "code",
   "execution_count": 6,
   "metadata": {},
   "outputs": [],
   "source": [
    "def get_dataset(ds_file):\n",
    "    '''Open train and test datasets, read them and, store their records to a list'''\n",
    "    with open (ds_file, 'r') as t_file:\n",
    "        ds = csv.reader(t_file)\n",
    "        records = []\n",
    "        label = []\n",
    "        dataset = []\n",
    "        for line in ds:\n",
    "            records.append([int(i) for i in line]) # list comprehension to convert lists' strings to ints on the fly        \n",
    "        # separate col(0) - label from the rest of the list\n",
    "        for line in records:\n",
    "            label.append(line[0])\n",
    "        for line in records:\n",
    "            dataset.append(line[1:])\n",
    "    return records,label,dataset"
   ]
  },
  {
   "cell_type": "code",
   "execution_count": 7,
   "metadata": {},
   "outputs": [],
   "source": [
    "# get our datasets\n",
    "raw_train_ds, train_labels, train_data = get_dataset(workpath+files['train'])\n",
    "raw_test_ds, test_labels, test_data = get_dataset(workpath+files['test'])\n",
    "\n",
    "#print (train_data[0])\n",
    "#print (train_labels[0])"
   ]
  },
  {
   "cell_type": "markdown",
   "metadata": {},
   "source": [
    "## Dataset test:  \n",
    "1. Print the first 3 labels\n",
    "2. Plot the first 3 entries in the training set to validate they match the labels"
   ]
  },
  {
   "cell_type": "code",
   "execution_count": 9,
   "metadata": {
    "scrolled": true
   },
   "outputs": [
    {
     "name": "stdout",
     "output_type": "stream",
     "text": [
      "Label = 5\n"
     ]
    },
    {
     "data": {
      "image/png": "[encoded data removed]",
      "text/plain": [
       "<Figure size 432x288 with 1 Axes>"
      ]
     },
     "metadata": {},
     "output_type": "display_data"
    },
    {
     "name": "stdout",
     "output_type": "stream",
     "text": [
      "Label = 0\n"
     ]
    },
    {
     "data": {
      "image/png": "[encoded data removed]",
      "text/plain": [
       "<Figure size 432x288 with 1 Axes>"
      ]
     },
     "metadata": {},
     "output_type": "display_data"
    },
    {
     "name": "stdout",
     "output_type": "stream",
     "text": [
      "Label = 4\n"
     ]
    },
    {
     "data": {
      "image/png": "[encoded data removed]",
      "text/plain": [
       "<Figure size 432x288 with 1 Axes>"
      ]
     },
     "metadata": {},
     "output_type": "display_data"
    }
   ],
   "source": [
    "import numpy as np\n",
    "import matplotlib.pyplot as plt\n",
    "\n",
    "#reshape gives a new shape to an array without changing its data.\n",
    "for i in range(0,3):\n",
    "    trainsetmtx = np.reshape(train_data[i], (28,28))\n",
    "    imgplot = plt.imshow(trainsetmtx, cmap=plt.cm.get_cmap(\"gray_r\"))\n",
    "    print ('Label = %s' % train_labels[i]), plt.show()"
   ]
  },
  {
   "cell_type": "markdown",
   "metadata": {},
   "source": [
    "**Proposed notion of similarity"
   ]
  },
  {
   "cell_type": "markdown",
   "metadata": {},
   "source": [
    "We have to define our own measure of similarity, and compare its performance to the provided measures."
   ]
  },
  {
   "cell_type": "code",
   "execution_count": null,
   "metadata": {},
   "outputs": [],
   "source": [
    "#Define similarity measure\n",
    "\n"
   ]
  },
  {
   "cell_type": "markdown",
   "metadata": {},
   "source": [
    "# K-Mean"
   ]
  },
  {
   "cell_type": "code",
   "execution_count": 10,
   "metadata": {},
   "outputs": [],
   "source": [
    "# http://scikit-learn.org/stable/modules/generated/sklearn.cluster.KMeans.html\n",
    "from sklearn import neighbors, metrics\n",
    "from sklearn.cluster import KMeans"
   ]
  },
  {
   "cell_type": "code",
   "execution_count": null,
   "metadata": {},
   "outputs": [],
   "source": []
  },
  {
   "cell_type": "markdown",
   "metadata": {},
   "source": [
    "# Binary partition"
   ]
  },
  {
   "cell_type": "code",
   "execution_count": null,
   "metadata": {},
   "outputs": [],
   "source": []
  },
  {
   "cell_type": "markdown",
   "metadata": {},
   "source": [
    "# PCoA"
   ]
  },
  {
   "cell_type": "code",
   "execution_count": null,
   "metadata": {},
   "outputs": [],
   "source": []
  },
  {
   "cell_type": "markdown",
   "metadata": {},
   "source": [
    "# Isomap"
   ]
  },
  {
   "cell_type": "code",
   "execution_count": null,
   "metadata": {},
   "outputs": [],
   "source": [
    "#http://scikit-learn.org/stable/modules/generated/sklearn.manifold.Isomap.html#sklearn.manifold.Isomap\n",
    "from sklearn import manifold"
   ]
  },
  {
   "cell_type": "markdown",
   "metadata": {},
   "source": [
    "# KNN"
   ]
  },
  {
   "cell_type": "code",
   "execution_count": null,
   "metadata": {},
   "outputs": [],
   "source": [
    "#http://scikit-learn.org/stable/modules/neighbors.html\n",
    "from sklearn.neighbors import NearestNeighbors"
   ]
  }
 ],
 "metadata": {
  "kernelspec": {
   "display_name": "Python 3",
   "language": "python",
   "name": "python3"
  },
  "language_info": {
   "codemirror_mode": {
    "name": "ipython",
    "version": 3
   },
   "file_extension": ".py",
   "mimetype": "text/x-python",
   "name": "python",
   "nbconvert_exporter": "python",
   "pygments_lexer": "ipython3",
   "version": "3.6.5"
  }
 },
 "nbformat": 4,
 "nbformat_minor": 2
}
