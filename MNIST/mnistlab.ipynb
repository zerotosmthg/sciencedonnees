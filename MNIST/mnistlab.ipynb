{
 "cells": [
  {
   "cell_type": "markdown",
   "metadata": {},
   "source": [
    "# Mnist lab \n",
    "\n",
    "## Using standard python libraries and the csv dataset\n"
   ]
  },
  {
   "cell_type": "markdown",
   "metadata": {},
   "source": [
    "### Set the environment\n",
    "1. Create the working directory called \"sciencedonnees\" based on the user's home\n",
    "2. Download the mnist dataset in csv format.  it is also possible to download the original dataset from http://yann.lecun.com/exdb/mnist/ (gz files), decompress the files and then (a) convert the files to csv or (b) convert the files to a numpy array  "
   ]
  },
  {
   "cell_type": "code",
   "execution_count": 75,
   "metadata": {},
   "outputs": [],
   "source": [
    "import urllib.request\n",
    "import os\n",
    "import csv"
   ]
  },
  {
   "cell_type": "code",
   "execution_count": 76,
   "metadata": {},
   "outputs": [],
   "source": [
    "def set_environment(workpath, urls, files):\n",
    "    ''' function to set the working directory, if it does not exist, \n",
    "        it will create it, and download the dataset'''\n",
    "    if not os.path.exists(workpath):\n",
    "        os.makedirs(workpath)\n",
    "        \n",
    "    for key, value in files.items():\n",
    "        file_name = workpath+value\n",
    "        print ('Downloading file: %s to %s %s' % (urls[key], file_name, '\\n'))\n",
    "        if os.path.isfile(file_name):\n",
    "            print ('Skipping as %s already exist in %s %s' % (value, file_name, '\\n') )\n",
    "        else:\n",
    "            download_file(urls[key], workpath+value)\n",
    "            print ('done'+'\\n')\n",
    "    \n",
    "        \n",
    "def download_file(f_url,f_dest):\n",
    "    '''function to download any file'''\n",
    "    urllib.request.urlretrieve(f_url, f_dest)"
   ]
  },
  {
   "cell_type": "markdown",
   "metadata": {},
   "source": [
    "#### If we want to use the original dataset, we can do it be defining the urls and files dictionaries as follows:\n",
    "\n",
    "```python\n",
    "urls={'train_images':'http://yann.lecun.com/exdb/mnist/train-images-idx3-ubyte.gz',\n",
    "      'train_labels':'http://yann.lecun.com/exdb/mnist/train-labels-idx1-ubyte.gz',\n",
    "      'test_images':'http://yann.lecun.com/exdb/mnist/t10k-images-idx3-ubyte.gz',\n",
    "      'test_labels':'http://yann.lecun.com/exdb/mnist/t10k-labels-idx1-ubyte.gz'}\n",
    "\n",
    "files = {'train_images':'train-images-idx3-ubyte.gz',\n",
    "         'train_labels':'train-labels-idx1-ubyte.gz',\n",
    "         'test_images':'t10k-images-idx3-ubyte.gz',\n",
    "         'test_labels':'t10k-labels-idx1-ubyte.gz'}\n",
    "```"
   ]
  },
  {
   "cell_type": "code",
   "execution_count": 77,
   "metadata": {},
   "outputs": [
    {
     "name": "stdout",
     "output_type": "stream",
     "text": [
      "Downloading file: https://pjreddie.com/media/files/mnist_train.csv to C:\\Users\\charl/sciencedonnees/mnist_train.csv \n",
      "\n",
      "Skipping as mnist_train.csv already exist in C:\\Users\\charl/sciencedonnees/mnist_train.csv \n",
      "\n",
      "Downloading file: https://pjreddie.com/media/files/mnist_test.csv to C:\\Users\\charl/sciencedonnees/mnist_test.csv \n",
      "\n",
      "Skipping as mnist_test.csv already exist in C:\\Users\\charl/sciencedonnees/mnist_test.csv \n",
      "\n"
     ]
    }
   ],
   "source": [
    "HOMEPATH = os.path.expanduser('~')\n",
    "workpath = HOMEPATH+'/sciencedonnees/'\n",
    "urls = {'train':'https://pjreddie.com/media/files/mnist_train.csv', \n",
    "        'test':'https://pjreddie.com/media/files/mnist_test.csv'}\n",
    "\n",
    "files = {'train':'mnist_train.csv', 'test':'mnist_test.csv'}\n",
    "\n",
    "set_environment(workpath, urls, files)"
   ]
  },
  {
   "cell_type": "markdown",
   "metadata": {},
   "source": [
    "### get the train and test dataset as we need it"
   ]
  },
  {
   "cell_type": "code",
   "execution_count": 78,
   "metadata": {},
   "outputs": [],
   "source": [
    "def get_dataset(ds_file):\n",
    "    '''Open train and test datasets, read them and, store their records to a list'''\n",
    "    with open (ds_file, 'r') as t_file:\n",
    "        ds = csv.reader(t_file)\n",
    "        records = []\n",
    "        label = []\n",
    "        dataset = []\n",
    "        for line in ds:\n",
    "            records.append([int(i) for i in line]) # list comprehension to convert lists' strings to ints on the fly        \n",
    "        # separate col(0) - label from the rest of the list\n",
    "        for line in records:\n",
    "            label.append(line[0])\n",
    "        for line in records:\n",
    "            dataset.append(line[1:])\n",
    "    return records,label,dataset"
   ]
  },
  {
   "cell_type": "code",
   "execution_count": 79,
   "metadata": {},
   "outputs": [],
   "source": [
    "# get our datasets\n",
    "raw_train_ds, train_labels, train_data = get_dataset(workpath+files['train'])\n",
    "raw_test_ds, test_labels, test_data = get_dataset(workpath+files['test'])\n",
    "\n",
    "#print (train_data[0])\n",
    "#print (train_labels[0])"
   ]
  },
  {
   "cell_type": "code",
   "execution_count": 80,
   "metadata": {},
   "outputs": [],
   "source": [
    "# so far our datasets are lists, so we will transform them as numpy arrays of (60000, 784)\n",
    "import numpy as np\n",
    "\n",
    "train_data_array = np.array(train_data)\n",
    "train_labels_array = np.array(train_labels)\n",
    "\n",
    "test_data_array = np.array(test_data)\n",
    "test_labels_array = np.array(test_labels)"
   ]
  },
  {
   "cell_type": "markdown",
   "metadata": {},
   "source": [
    "## Dataset test:  \n",
    "1. Print the first 3 labels\n",
    "2. Plot the first 3 entries in the training set to validate they match the labels"
   ]
  },
  {
   "cell_type": "code",
   "execution_count": 81,
   "metadata": {},
   "outputs": [
    {
     "name": "stdout",
     "output_type": "stream",
     "text": [
      "Label = 5\n"
     ]
    },
    {
     "data": {
      "image/png": "[encoded data removed]",
      "text/plain": [
       "<Figure size 432x288 with 1 Axes>"
      ]
     },
     "metadata": {},
     "output_type": "display_data"
    },
    {
     "name": "stdout",
     "output_type": "stream",
     "text": [
      "Label = 0\n"
     ]
    },
    {
     "data": {
      "image/png": "[encoded data removed]",
      "text/plain": [
       "<Figure size 432x288 with 1 Axes>"
      ]
     },
     "metadata": {},
     "output_type": "display_data"
    },
    {
     "name": "stdout",
     "output_type": "stream",
     "text": [
      "Label = 4\n"
     ]
    },
    {
     "data": {
      "image/png": "[encoded data removed]",
      "text/plain": [
       "<Figure size 432x288 with 1 Axes>"
      ]
     },
     "metadata": {},
     "output_type": "display_data"
    }
   ],
   "source": [
    "import numpy as np\n",
    "import matplotlib.pyplot as plt\n",
    "%matplotlib inline\n",
    "\n",
    "#reshape gives a new shape to an array without changing its data.\n",
    "for i in range(0,3):\n",
    "    trainsetmtx = np.reshape(train_data[i], (28,28))\n",
    "    imgplot = plt.imshow(trainsetmtx, cmap=plt.cm.get_cmap(\"gray_r\"))\n",
    "    print ('Label = %s' % train_labels[i]), plt.show()"
   ]
  },
  {
   "cell_type": "markdown",
   "metadata": {},
   "source": [
    "**Proposed notion of similarity\n",
    "\n",
    "We have to define our own measure of similarity, and compare its performance to the provided measures.\n"
   ]
  },
  {
   "cell_type": "code",
   "execution_count": 89,
   "metadata": {},
   "outputs": [],
   "source": [
    "#Define original similarity measure\n",
    "import dist_norm"
   ]
  },
  {
   "cell_type": "markdown",
   "metadata": {},
   "source": [
    "# K-Mean"
   ]
  },
  {
   "cell_type": "code",
   "execution_count": 83,
   "metadata": {},
   "outputs": [],
   "source": [
    "# http://scikit-learn.org/stable/modules/generated/sklearn.cluster.KMeans.html\n",
    "from sklearn import neighbors, metrics\n",
    "from sklearn.cluster import KMeans"
   ]
  },
  {
   "cell_type": "markdown",
   "metadata": {},
   "source": [
    "# Binary partition"
   ]
  },
  {
   "cell_type": "code",
   "execution_count": null,
   "metadata": {},
   "outputs": [],
   "source": []
  },
  {
   "cell_type": "markdown",
   "metadata": {},
   "source": [
    "# PCoA"
   ]
  },
  {
   "cell_type": "code",
   "execution_count": 85,
   "metadata": {},
   "outputs": [],
   "source": [
    "import pandas as pd\n",
    "import numpy as np\n",
    "import matplotlib.pyplot as plt\n",
    "import sklearn as skl\n",
    "import time\n",
    "\n",
    "from sklearn.manifold import MDS\n",
    "from matplotlib import offsetbox"
   ]
  },
  {
   "cell_type": "code",
   "execution_count": 86,
   "metadata": {},
   "outputs": [],
   "source": [
    "# convert datasets to Numpy objects\n",
    "y_train = np.asarray(train_labels)\n",
    "X_train = np.asarray(train_data) \n",
    "y_test = np.asarray(test_labels) \n",
    "X_test = np.asarray(test_data)"
   ]
  },
  {
   "cell_type": "code",
   "execution_count": 87,
   "metadata": {},
   "outputs": [
    {
     "name": "stdout",
     "output_type": "stream",
     "text": [
      "Processing...\n",
      "Processed 0 percent of 4950.\r",
      "Processed 0 percent of 4950.\r",
      "Processed 0 percent of 4950.\r",
      "Processed 0 percent of 4950.\r",
      "Processed 0 percent of 4950.\r"
     ]
    },
    {
     "name": "stderr",
     "output_type": "stream",
     "text": [
      "C:\\Users\\charl\\OneDrive\\CS materials\\GitHub ressources\\sciencedonnees\\MNIST\\dist_norm.py:28: RuntimeWarning: divide by zero encountered in true_divide\n",
      "  H = np.tile(diff,(len(diff),1))\n"
     ]
    },
    {
     "name": "stdout",
     "output_type": "stream",
     "text": [
      "Processed 100 percent of 4950.\r"
     ]
    }
   ],
   "source": [
    "\n",
    "n_batches = 100 # size of batch\n",
    "\n",
    "#Distance matrix\n",
    "D = dist_norm.dist_norm.norm_distance(X_train[:n_batches,:])"
   ]
  },
  {
   "cell_type": "code",
   "execution_count": 88,
   "metadata": {},
   "outputs": [
    {
     "data": {
      "text/plain": [
       "'C:\\\\Users\\\\charl\\\\OneDrive\\\\CS materials\\\\GitHub ressources\\\\sciencedonnees\\\\MNIST'"
      ]
     },
     "execution_count": 88,
     "metadata": {},
     "output_type": "execute_result"
    }
   ],
   "source": [
    "pwd"
   ]
  },
  {
   "cell_type": "code",
   "execution_count": 54,
   "metadata": {},
   "outputs": [
    {
     "name": "stdout",
     "output_type": "stream",
     "text": [
      "Processing...\n",
      "[23594950954.239384, 11044248704.305983, 6399470580.4516144, 4149021804.8867574, 3063429658.3173547, 2366459117.2859612, 1924412953.3453951, 1622098417.7878733, 1367876546.5114601, 1192929279.9287398, 1031903691.6312088, 927467967.70089984, 831070922.14501309, 740828587.34651923, 670959454.24185324, 608607692.06758368, 559708208.56021559, 515910975.77894998, 477468302.72876614, 442092921.39305592, 411802380.51057255, 381783573.89279747, 357433204.36703128, 335062975.43756443, 312292579.06513637, 295973614.24998122, 276896106.37998182, 261649986.90125972, 248633709.95145383, 234341664.46185595, 221279901.96917284, 210294990.44819734, 200168821.62519974, 191094214.54967284, 177599583.30521196, 170219905.62213966, 161920400.43768039, 154731526.57935098, 147389910.56836495, 141535497.51853791, 132675830.61617772, 128383590.86385223, 122182643.69283685, 116834541.09412988, 111689507.01753408, 106169870.37306368, 102819118.47100973, 98644703.449491128, 93546625.417228177]\n"
     ]
    },
    {
     "data": {
      "text/plain": [
       "Text(0,0.5,'stress')"
      ]
     },
     "execution_count": 54,
     "metadata": {},
     "output_type": "execute_result"
    },
    {
     "data": {
      "image/png": "[encoded data removed]",
      "text/plain": [
       "<Figure size 432x288 with 1 Axes>"
      ]
     },
     "metadata": {},
     "output_type": "display_data"
    }
   ],
   "source": [
    "#optimal number of components\n",
    "k_range = range(1, min(50, D.shape[0]-1))\n",
    "\n",
    "print(\"Processing...\")\n",
    "'''\n",
    "for k in k_range:\n",
    "    stress = MDS(dissimilarity='precomputed', n_components=k,\n",
    "            random_state=42, max_iter=300, eps=1e-9).fit(D).stress_\n",
    "    print(\"Processed %d percent of %d.\" %(round(100*k/len(k_range)), len(k_range)),   end='\\r')\n",
    "print('\\n')        \n",
    "print(\"Processing has completed!\") \n",
    "'''          \n",
    "stress = [MDS(dissimilarity='precomputed', n_components=k,random_state=42, max_iter=300, eps=1e-9).fit(D).stress_ for k in k_range]\n",
    "print(stress)\n",
    "plt.plot(k_range, stress)\n",
    "plt.xlabel(\"k\")\n",
    "plt.ylabel(\"stress\")\n",
    "\n",
    "#print(\"K = %f\" %arg_min(stress[k]))\n",
    "# n_comp = 10"
   ]
  },
  {
   "cell_type": "code",
   "execution_count": 55,
   "metadata": {},
   "outputs": [],
   "source": [
    "# specifying the optimal number of components to be considered.\n",
    "n_comp = 10"
   ]
  },
  {
   "cell_type": "code",
   "execution_count": 56,
   "metadata": {},
   "outputs": [],
   "source": [
    "# Scale and visualize the embedding vectors\n",
    "def plot_embedding(X, title=None):\n",
    "    x_min, x_max = np.min(X, 0), np.max(X, 0)\n",
    "    X = (X - x_min) / (x_max - x_min)\n",
    "\n",
    "    plt.figure()\n",
    "    ax = plt.subplot(111)\n",
    "    for i in range(X.shape[0]):\n",
    "        plt.text(X[i, 0], X[i, 1], str(y[i]),\n",
    "                 color=plt.cm.Set1(y[i] / 10.),\n",
    "                 fontdict={'weight': 'bold', 'size': 9})\n",
    "\n",
    "    if hasattr(offsetbox, 'AnnotationBbox'):\n",
    "        # only print thumbnails with matplotlib > 1.0\n",
    "        shown_images = np.array([[1., 1.]])  # just something big\n",
    "        print(shown_images)\n",
    "        for i in range(X.shape[0]):\n",
    "            dist = np.sum((X[i] - shown_images) ** 2, 1)\n",
    "            if np.min(dist) < 4e-3:\n",
    "                # don't show points that are too close\n",
    "                continue\n",
    "            shown_images = np.r_[shown_images, [X[i]]]\n",
    "            imagebox = offsetbox.AnnotationBbox(\n",
    "                offsetbox.OffsetImage(digits.images[i], cmap=plt.cm.gray_r),\n",
    "                X[i])\n",
    "            ax.add_artist(imagebox)\n",
    "    plt.xticks([]), plt.yticks([])\n",
    "    if title is not None:\n",
    "        plt.title(title)\n"
   ]
  },
  {
   "cell_type": "code",
   "execution_count": 63,
   "metadata": {},
   "outputs": [
    {
     "ename": "AttributeError",
     "evalue": "'numpy.ndarray' object has no attribute 'embedding_'",
     "output_type": "error",
     "traceback": [
      "\u001b[1;31m---------------------------------------------------------------------------\u001b[0m",
      "\u001b[1;31mAttributeError\u001b[0m                            Traceback (most recent call last)",
      "\u001b[1;32m<ipython-input-63-80b04ede9ff0>\u001b[0m in \u001b[0;36m<module>\u001b[1;34m()\u001b[0m\n\u001b[0;32m      3\u001b[0m \u001b[0my\u001b[0m \u001b[1;33m=\u001b[0m \u001b[0my_train\u001b[0m\u001b[1;33m\u001b[0m\u001b[0m\n\u001b[0;32m      4\u001b[0m \u001b[0mpcoa_norm\u001b[0m \u001b[1;33m=\u001b[0m \u001b[0mMDS\u001b[0m\u001b[1;33m(\u001b[0m\u001b[0mdissimilarity\u001b[0m \u001b[1;33m=\u001b[0m \u001b[1;34m'precomputed'\u001b[0m\u001b[1;33m,\u001b[0m \u001b[0mn_components\u001b[0m\u001b[1;33m=\u001b[0m\u001b[0mn_comp\u001b[0m\u001b[1;33m,\u001b[0m \u001b[0mn_init\u001b[0m\u001b[1;33m=\u001b[0m\u001b[1;36m3\u001b[0m\u001b[1;33m,\u001b[0m \u001b[0mmax_iter\u001b[0m\u001b[1;33m=\u001b[0m\u001b[1;36m100\u001b[0m\u001b[1;33m)\u001b[0m\u001b[1;33m\u001b[0m\u001b[0m\n\u001b[1;32m----> 5\u001b[1;33m \u001b[0mX_transf_norm\u001b[0m \u001b[1;33m=\u001b[0m \u001b[0mpcoa_norm\u001b[0m\u001b[1;33m.\u001b[0m\u001b[0mfit_transform\u001b[0m\u001b[1;33m(\u001b[0m\u001b[0mD\u001b[0m\u001b[1;33m)\u001b[0m\u001b[1;33m.\u001b[0m\u001b[0membedding_\u001b[0m \u001b[1;31m#,y_train[:n_batches]\u001b[0m\u001b[1;33m\u001b[0m\u001b[0m\n\u001b[0m\u001b[0;32m      6\u001b[0m \u001b[1;33m\u001b[0m\u001b[0m\n\u001b[0;32m      7\u001b[0m \u001b[1;33m\u001b[0m\u001b[0m\n",
      "\u001b[1;31mAttributeError\u001b[0m: 'numpy.ndarray' object has no attribute 'embedding_'"
     ]
    }
   ],
   "source": [
    "# Fitting the PCoA model with the original similarity measure.\n",
    "\n",
    "y = y_train\n",
    "pcoa_norm = MDS(dissimilarity = 'precomputed', n_components=n_comp, n_init=3, max_iter=100)\n",
    "X_transf_norm = pcoa_norm.fit_transform(D) #,y_train[:n_batches]\n",
    "\n",
    "\n",
    "plot_embedding(X_transf_norm,\"NORMALIZED - MDS embedding of the digits (time %.2fs)\" ) #%(time() - t0)"
   ]
  },
  {
   "cell_type": "code",
   "execution_count": 61,
   "metadata": {},
   "outputs": [
    {
     "name": "stdout",
     "output_type": "stream",
     "text": [
      "[[ 1.  1.]]\n"
     ]
    },
    {
     "ename": "ValueError",
     "evalue": "operands could not be broadcast together with shapes (10,) (1,2) ",
     "output_type": "error",
     "traceback": [
      "\u001b[1;31m---------------------------------------------------------------------------\u001b[0m",
      "\u001b[1;31mValueError\u001b[0m                                Traceback (most recent call last)",
      "\u001b[1;32m<ipython-input-61-fef6cb422682>\u001b[0m in \u001b[0;36m<module>\u001b[1;34m()\u001b[0m\n\u001b[0;32m      4\u001b[0m \u001b[0mX_transf_eucl\u001b[0m \u001b[1;33m=\u001b[0m \u001b[0mpcoa_eucl\u001b[0m\u001b[1;33m.\u001b[0m\u001b[0mfit_transform\u001b[0m\u001b[1;33m(\u001b[0m\u001b[0mX_train\u001b[0m\u001b[1;33m[\u001b[0m\u001b[1;33m:\u001b[0m\u001b[0mn_batches\u001b[0m\u001b[1;33m,\u001b[0m\u001b[1;33m:\u001b[0m\u001b[1;33m]\u001b[0m\u001b[1;33m)\u001b[0m \u001b[1;31m#,y_train[:n_batches]\u001b[0m\u001b[1;33m\u001b[0m\u001b[0m\n\u001b[0;32m      5\u001b[0m \u001b[1;33m\u001b[0m\u001b[0m\n\u001b[1;32m----> 6\u001b[1;33m \u001b[0mplot_embedding\u001b[0m\u001b[1;33m(\u001b[0m\u001b[0mX_transf_eucl\u001b[0m\u001b[1;33m,\u001b[0m\u001b[1;34m\"EUCLIDE - MDS embedding of the digits (time %.2fs)\"\u001b[0m \u001b[1;33m)\u001b[0m \u001b[1;31m#%(time() - t0)\u001b[0m\u001b[1;33m\u001b[0m\u001b[0m\n\u001b[0m",
      "\u001b[1;32m<ipython-input-56-1e61f9337ada>\u001b[0m in \u001b[0;36mplot_embedding\u001b[1;34m(X, title)\u001b[0m\n\u001b[0;32m     16\u001b[0m         \u001b[0mprint\u001b[0m\u001b[1;33m(\u001b[0m\u001b[0mshown_images\u001b[0m\u001b[1;33m)\u001b[0m\u001b[1;33m\u001b[0m\u001b[0m\n\u001b[0;32m     17\u001b[0m         \u001b[1;32mfor\u001b[0m \u001b[0mi\u001b[0m \u001b[1;32min\u001b[0m \u001b[0mrange\u001b[0m\u001b[1;33m(\u001b[0m\u001b[0mX\u001b[0m\u001b[1;33m.\u001b[0m\u001b[0mshape\u001b[0m\u001b[1;33m[\u001b[0m\u001b[1;36m0\u001b[0m\u001b[1;33m]\u001b[0m\u001b[1;33m)\u001b[0m\u001b[1;33m:\u001b[0m\u001b[1;33m\u001b[0m\u001b[0m\n\u001b[1;32m---> 18\u001b[1;33m             \u001b[0mdist\u001b[0m \u001b[1;33m=\u001b[0m \u001b[0mnp\u001b[0m\u001b[1;33m.\u001b[0m\u001b[0msum\u001b[0m\u001b[1;33m(\u001b[0m\u001b[1;33m(\u001b[0m\u001b[0mX\u001b[0m\u001b[1;33m[\u001b[0m\u001b[0mi\u001b[0m\u001b[1;33m]\u001b[0m \u001b[1;33m-\u001b[0m \u001b[0mshown_images\u001b[0m\u001b[1;33m)\u001b[0m \u001b[1;33m**\u001b[0m \u001b[1;36m2\u001b[0m\u001b[1;33m,\u001b[0m \u001b[1;36m1\u001b[0m\u001b[1;33m)\u001b[0m\u001b[1;33m\u001b[0m\u001b[0m\n\u001b[0m\u001b[0;32m     19\u001b[0m             \u001b[1;32mif\u001b[0m \u001b[0mnp\u001b[0m\u001b[1;33m.\u001b[0m\u001b[0mmin\u001b[0m\u001b[1;33m(\u001b[0m\u001b[0mdist\u001b[0m\u001b[1;33m)\u001b[0m \u001b[1;33m<\u001b[0m \u001b[1;36m4e-3\u001b[0m\u001b[1;33m:\u001b[0m\u001b[1;33m\u001b[0m\u001b[0m\n\u001b[0;32m     20\u001b[0m                 \u001b[1;31m# don't show points that are too close\u001b[0m\u001b[1;33m\u001b[0m\u001b[1;33m\u001b[0m\u001b[0m\n",
      "\u001b[1;31mValueError\u001b[0m: operands could not be broadcast together with shapes (10,) (1,2) "
     ]
    },
    {
     "data": {
      "image/png": "[encoded data removed]",
      "text/plain": [
       "<Figure size 432x288 with 1 Axes>"
      ]
     },
     "metadata": {},
     "output_type": "display_data"
    }
   ],
   "source": [
    "# Fitting the PCoA model with the Euclidean distance measure of similarity.\n",
    "\n",
    "pcoa_eucl = MDS(dissimilarity = 'euclidean', n_components=n_comp)\n",
    "X_transf_eucl = pcoa_eucl.fit_transform(X_train[:n_batches,:]) #,y_train[:n_batches]\n",
    "\n",
    "plot_embedding(X_transf_eucl,\"EUCLIDE - MDS embedding of the digits (time %.2fs)\" ) #%(time() - t0)"
   ]
  },
  {
   "cell_type": "code",
   "execution_count": 59,
   "metadata": {},
   "outputs": [
    {
     "name": "stdout",
     "output_type": "stream",
     "text": [
      "Error with normaliz_dist: 1410799815\n",
      "Error with eucl_distance: 223818903\n"
     ]
    }
   ],
   "source": [
    "# Comparing the stress functions\n",
    "print(\"Error with normaliz_dist: %d\" %pcoa_norm.stress_)\n",
    "print(\"Error with eucl_distance: %d\" %pcoa_eucl.stress_)\n"
   ]
  },
  {
   "cell_type": "code",
   "execution_count": null,
   "metadata": {},
   "outputs": [],
   "source": [
    "pwd"
   ]
  },
  {
   "cell_type": "markdown",
   "metadata": {},
   "source": [
    "# Isomap"
   ]
  },
  {
   "cell_type": "code",
   "execution_count": null,
   "metadata": {},
   "outputs": [],
   "source": [
    "from sklearn import manifold\n",
    "\n",
    "#x_axis = train_data_array[label_data == 7]\n",
    "x_axis = train_data_array[train_labels_array == 7]\n",
    "y_axis = manifold.Isomap(n_neighbors=5, n_components=2).fit_transform(x_axis)"
   ]
  },
  {
   "cell_type": "code",
   "execution_count": null,
   "metadata": {},
   "outputs": [],
   "source": [
    "plt.scatter(y_axis[:,0], y_axis[:,1])"
   ]
  },
  {
   "cell_type": "markdown",
   "metadata": {},
   "source": [
    "### Now, lets take a subset of our data to fully plot it\n",
    "we are using only a subset of the data (1/30) as processing the full dataset (Isomap().fit_transform()) could either: \n",
    "1. take long time when running in an standalone workstation (laptop)\n",
    "2. fail because of out of memory error"
   ]
  },
  {
   "cell_type": "code",
   "execution_count": null,
   "metadata": {},
   "outputs": [],
   "source": [
    "imap_data = train_data_array[::30]\n",
    "imap_label = train_labels_array[::30]\n",
    "view = manifold.Isomap(n_neighbors=5, n_components=2).fit_transform(imap_data)"
   ]
  },
  {
   "cell_type": "code",
   "execution_count": null,
   "metadata": {},
   "outputs": [],
   "source": [
    "plt.scatter(view[:, 0], view[:, 1], c=imap_label, cmap=plt.cm.get_cmap('nipy_spectral_r', 10))\n",
    "plt.colorbar(ticks=range(10))\n",
    "plt.clim(-0.5, 9.5);"
   ]
  },
  {
   "cell_type": "markdown",
   "metadata": {},
   "source": [
    "### http://scikit-learn.org/stable/modules/generated/sklearn.manifold.Isomap.html#sklearn.manifold.Isomap\n",
    "\n",
    "\n",
    "### use only 1/30 of the data: full dataset takes a long time!"
   ]
  },
  {
   "cell_type": "code",
   "execution_count": null,
   "metadata": {},
   "outputs": [],
   "source": [
    "from sklearn.manifold import Isomap\n",
    "model = Isomap(n_components=2)\n",
    "proj = model.fit_transform(trainsetmtx.data)\n",
    "proj.shape"
   ]
  },
  {
   "cell_type": "code",
   "execution_count": null,
   "metadata": {},
   "outputs": [],
   "source": [
    "from matplotlib import offsetbox\n",
    "\n",
    "def plot_components(data, model, images=None, ax=None,\n",
    "                    thumb_frac=0.05, cmap='gray'):\n",
    "    ax = ax or plt.gca()\n",
    "    \n",
    "    proj = model.fit_transform(data)\n",
    "    ax.plot(proj[:, 0], proj[:, 1], '.k')\n",
    "    \n",
    "    if images is not None:\n",
    "        min_dist_2 = (thumb_frac * max(proj.max(0) - proj.min(0))) ** 2\n",
    "        shown_images = np.array([2 * proj.max(0)])\n",
    "        for i in range(data.shape[0]):\n",
    "            dist = np.sum((proj[i] - shown_images) ** 2, 1)\n",
    "            if np.min(dist) < min_dist_2:\n",
    "                # don't show points that are too close\n",
    "                continue\n",
    "            shown_images = np.vstack([shown_images, proj[i]])\n",
    "            imagebox = offsetbox.AnnotationBbox(\n",
    "                offsetbox.OffsetImage(images[i], cmap=cmap),\n",
    "                                      proj[i])\n",
    "            ax.add_artist(imagebox)"
   ]
  },
  {
   "cell_type": "code",
   "execution_count": null,
   "metadata": {},
   "outputs": [],
   "source": [
    "from sklearn.manifold import Isomap\n",
    "\n",
    "# Choose 1/4 of the \"1\" digits to project\n",
    "data = train_data_array[train_labels_array == 7][::4]\n",
    "\n",
    "fig, ax = plt.subplots(figsize=(10, 10))\n",
    "model = Isomap(n_neighbors=5, n_components=2, eigen_solver='dense')\n",
    "plot_components(data, model, images=data.reshape((-1, 28, 28)),\n",
    "                ax=ax, thumb_frac=0.05, cmap='nipy_spectral_r')"
   ]
  },
  {
   "cell_type": "markdown",
   "metadata": {},
   "source": [
    "# KNN"
   ]
  },
  {
   "cell_type": "code",
   "execution_count": null,
   "metadata": {},
   "outputs": [],
   "source": [
    "#http://scikit-learn.org/stable/modules/neighbors.html\n",
    "from sklearn.neighbors import NearestNeighbors"
   ]
  }
 ],
 "metadata": {
  "kernelspec": {
   "display_name": "Python 3",
   "language": "python",
   "name": "python3"
  },
  "language_info": {
   "codemirror_mode": {
    "name": "ipython",
    "version": 3
   },
   "file_extension": ".py",
   "mimetype": "text/x-python",
   "name": "python",
   "nbconvert_exporter": "python",
   "pygments_lexer": "ipython3",
   "version": "3.6.5"
  }
 },
 "nbformat": 4,
 "nbformat_minor": 2
}
